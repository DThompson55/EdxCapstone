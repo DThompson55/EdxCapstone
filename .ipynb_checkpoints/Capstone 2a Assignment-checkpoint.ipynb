{
 "cells": [
  {
   "cell_type": "markdown",
   "metadata": {},
   "source": [
    "# Data Science and Machine Learning Capstone Project\n",
    "<div style=\"text-align: right\">\n",
    " Dan Thompson         </br> \n",
    " danlthom@us.ibm.com  </br>\n",
    " August, 2019         </br>\n",
    "</div>\n",
    "\n",
    "## Project 2 - What Areas Should the Agency Focus On?"
   ]
  },
  {
   "cell_type": "code",
   "execution_count": 1,
   "metadata": {},
   "outputs": [],
   "source": [
    "# Import libraries\n",
    "import itertools\n",
    "import matplotlib.pyplot as plt\n",
    "import numpy as np\n",
    "import pandas as pd\n",
    "%matplotlib inline"
   ]
  },
  {
   "cell_type": "code",
   "execution_count": 2,
   "metadata": {},
   "outputs": [],
   "source": [
    "#!conda install -c conda-forge folium=0.5.0 --yes # uncomment this line if you haven't completed the Foursquare API lab\n"
   ]
  },
  {
   "cell_type": "code",
   "execution_count": 3,
   "metadata": {},
   "outputs": [],
   "source": [
    "import folium # map rendering library"
   ]
  },
  {
   "cell_type": "code",
   "execution_count": 4,
   "metadata": {},
   "outputs": [],
   "source": [
    "# Read the 311 data into a dataframe\n",
    "\n",
    "df = pd.read_pickle('./files/df_hot.pkl')\n"
   ]
  },
  {
   "cell_type": "code",
   "execution_count": null,
   "metadata": {},
   "outputs": [],
   "source": []
  },
  {
   "cell_type": "markdown",
   "metadata": {},
   "source": [
    "# Problem Statement\n",
    "\n",
    " - Select the top complaint from NYC 311 data for the last five years.\n",
    " - In this case it is HEAT/HOT WATER complaints\n",
    " - Find the boroughs, streets, and zip codes that have the highest numbers of complaints\n",
    " \n",
    "df_hot represents the HEATING and the HEAT/HOT WATER complaints "
   ]
  },
  {
   "cell_type": "markdown",
   "metadata": {},
   "source": [
    "# Which boroughs have the worst problems?"
   ]
  },
  {
   "cell_type": "code",
   "execution_count": 5,
   "metadata": {},
   "outputs": [],
   "source": [
    "boroughs = pd.DataFrame(df['borough'].value_counts()[:10]).reset_index()['index']\n",
    "\n",
    "df_d = pd.get_dummies(df['borough'])\n",
    "df_d = df.join(df_d, how=\"left\")\n",
    "\n",
    "df_d = df_d.groupby(by=['Fold']).sum()[boroughs]\n",
    "#df_hot.groupby('Fold').sum().sort_values('count', ascending=False).head(6)"
   ]
  },
  {
   "cell_type": "code",
   "execution_count": 6,
   "metadata": {},
   "outputs": [
    {
     "data": {
      "text/html": [
       "<div>\n",
       "<style scoped>\n",
       "    .dataframe tbody tr th:only-of-type {\n",
       "        vertical-align: middle;\n",
       "    }\n",
       "\n",
       "    .dataframe tbody tr th {\n",
       "        vertical-align: top;\n",
       "    }\n",
       "\n",
       "    .dataframe thead th {\n",
       "        text-align: right;\n",
       "    }\n",
       "</style>\n",
       "<table border=\"1\" class=\"dataframe\">\n",
       "  <thead>\n",
       "    <tr style=\"text-align: right;\">\n",
       "      <th></th>\n",
       "      <th>BRONX</th>\n",
       "      <th>BROOKLYN</th>\n",
       "      <th>MANHATTAN</th>\n",
       "      <th>QUEENS</th>\n",
       "      <th>STATEN ISLAND</th>\n",
       "      <th>Unspecified</th>\n",
       "    </tr>\n",
       "    <tr>\n",
       "      <th>Fold</th>\n",
       "      <th></th>\n",
       "      <th></th>\n",
       "      <th></th>\n",
       "      <th></th>\n",
       "      <th></th>\n",
       "      <th></th>\n",
       "    </tr>\n",
       "  </thead>\n",
       "  <tbody>\n",
       "    <tr>\n",
       "      <th>2015</th>\n",
       "      <td>79680.0</td>\n",
       "      <td>72268.0</td>\n",
       "      <td>55091.0</td>\n",
       "      <td>31401.0</td>\n",
       "      <td>2277.0</td>\n",
       "      <td>0.0</td>\n",
       "    </tr>\n",
       "    <tr>\n",
       "      <th>2016</th>\n",
       "      <td>68365.0</td>\n",
       "      <td>62890.0</td>\n",
       "      <td>50288.0</td>\n",
       "      <td>27598.0</td>\n",
       "      <td>2031.0</td>\n",
       "      <td>0.0</td>\n",
       "    </tr>\n",
       "    <tr>\n",
       "      <th>2017</th>\n",
       "      <td>67699.0</td>\n",
       "      <td>65231.0</td>\n",
       "      <td>46584.0</td>\n",
       "      <td>28218.0</td>\n",
       "      <td>2050.0</td>\n",
       "      <td>0.0</td>\n",
       "    </tr>\n",
       "    <tr>\n",
       "      <th>2018</th>\n",
       "      <td>71986.0</td>\n",
       "      <td>72967.0</td>\n",
       "      <td>50419.0</td>\n",
       "      <td>30950.0</td>\n",
       "      <td>2237.0</td>\n",
       "      <td>1.0</td>\n",
       "    </tr>\n",
       "    <tr>\n",
       "      <th>2019</th>\n",
       "      <td>72939.0</td>\n",
       "      <td>67116.0</td>\n",
       "      <td>48730.0</td>\n",
       "      <td>29670.0</td>\n",
       "      <td>2378.0</td>\n",
       "      <td>0.0</td>\n",
       "    </tr>\n",
       "  </tbody>\n",
       "</table>\n",
       "</div>"
      ],
      "text/plain": [
       "        BRONX  BROOKLYN  MANHATTAN   QUEENS  STATEN ISLAND  Unspecified\n",
       "Fold                                                                   \n",
       "2015  79680.0   72268.0    55091.0  31401.0         2277.0          0.0\n",
       "2016  68365.0   62890.0    50288.0  27598.0         2031.0          0.0\n",
       "2017  67699.0   65231.0    46584.0  28218.0         2050.0          0.0\n",
       "2018  71986.0   72967.0    50419.0  30950.0         2237.0          1.0\n",
       "2019  72939.0   67116.0    48730.0  29670.0         2378.0          0.0"
      ]
     },
     "execution_count": 6,
     "metadata": {},
     "output_type": "execute_result"
    }
   ],
   "source": [
    "df_d[:10]"
   ]
  },
  {
   "cell_type": "markdown",
   "metadata": {},
   "source": [
    "## It turns out there is only one Unspecified Borough\n",
    " - using Lat/Lng feature we can look it up by hand and place it in the BRONX\n"
   ]
  },
  {
   "cell_type": "code",
   "execution_count": 7,
   "metadata": {},
   "outputs": [],
   "source": [
    "df.loc[df['borough']=='Unspecified',['borough']]=\"BRONX\"\n",
    "df_d.drop('Unspecified', axis=1, inplace=True)\n"
   ]
  },
  {
   "cell_type": "code",
   "execution_count": 8,
   "metadata": {},
   "outputs": [
    {
     "data": {
      "text/plain": [
       "<matplotlib.axes._subplots.AxesSubplot at 0x10fa13470>"
      ]
     },
     "execution_count": 8,
     "metadata": {},
     "output_type": "execute_result"
    },
    {
     "data": {
      "image/png": "[encoded data removed]",
      "text/plain": [
       "<Figure size 576x360 with 1 Axes>"
      ]
     },
     "metadata": {
      "needs_background": "light"
     },
     "output_type": "display_data"
    }
   ],
   "source": [
    "df_d.plot(figsize=(8,5), title=\"Heat/Hot Water Complaints Volume by Borough vs Year\")"
   ]
  },
  {
   "cell_type": "markdown",
   "metadata": {},
   "source": [
    "# Results: Which boroughs have the worst problems?\n",
    "\n",
    "From 2015 through 2019 The Bronx had the worst HEAT/HOT WATER related problem, with the exception of 2018, when Brooklyn had slightly more problems"
   ]
  },
  {
   "cell_type": "markdown",
   "metadata": {},
   "source": [
    "# Which streets have the worst problems?\n",
    "\n",
    "Street names can repeat in different boroughs, and can be completely differnt streets. So we need to look for streets within Boroughs. And let's just look at the last year."
   ]
  },
  {
   "cell_type": "code",
   "execution_count": 9,
   "metadata": {
    "scrolled": false
   },
   "outputs": [
    {
     "name": "stdout",
     "output_type": "stream",
     "text": [
      "Total Number of Streets Reporting Problems (4329, 1) in 2019\n"
     ]
    },
    {
     "data": {
      "text/html": [
       "<div>\n",
       "<style scoped>\n",
       "    .dataframe tbody tr th:only-of-type {\n",
       "        vertical-align: middle;\n",
       "    }\n",
       "\n",
       "    .dataframe tbody tr th {\n",
       "        vertical-align: top;\n",
       "    }\n",
       "\n",
       "    .dataframe thead th {\n",
       "        text-align: right;\n",
       "    }\n",
       "</style>\n",
       "<table border=\"1\" class=\"dataframe\">\n",
       "  <thead>\n",
       "    <tr style=\"text-align: right;\">\n",
       "      <th></th>\n",
       "      <th></th>\n",
       "      <th>count</th>\n",
       "    </tr>\n",
       "    <tr>\n",
       "      <th>street_name</th>\n",
       "      <th>borough</th>\n",
       "      <th></th>\n",
       "    </tr>\n",
       "  </thead>\n",
       "  <tbody>\n",
       "    <tr>\n",
       "      <th>GRAND CONCOURSE</th>\n",
       "      <th>BRONX</th>\n",
       "      <td>4109</td>\n",
       "    </tr>\n",
       "    <tr>\n",
       "      <th>ELMHURST AVENUE</th>\n",
       "      <th>QUEENS</th>\n",
       "      <td>3297</td>\n",
       "    </tr>\n",
       "    <tr>\n",
       "      <th>BROADWAY</th>\n",
       "      <th>MANHATTAN</th>\n",
       "      <td>2172</td>\n",
       "    </tr>\n",
       "    <tr>\n",
       "      <th>OCEAN AVENUE</th>\n",
       "      <th>BROOKLYN</th>\n",
       "      <td>1816</td>\n",
       "    </tr>\n",
       "    <tr>\n",
       "      <th>MORRIS AVENUE</th>\n",
       "      <th>BRONX</th>\n",
       "      <td>1646</td>\n",
       "    </tr>\n",
       "  </tbody>\n",
       "</table>\n",
       "</div>"
      ],
      "text/plain": [
       "                           count\n",
       "street_name     borough         \n",
       "GRAND CONCOURSE BRONX       4109\n",
       "ELMHURST AVENUE QUEENS      3297\n",
       "BROADWAY        MANHATTAN   2172\n",
       "OCEAN AVENUE    BROOKLYN    1816\n",
       "MORRIS AVENUE   BRONX       1646"
      ]
     },
     "execution_count": 9,
     "metadata": {},
     "output_type": "execute_result"
    }
   ],
   "source": [
    "# Find the streets within each borough with the worst problems. Street names can repeat in different boroughs, and can be completely differnt streets~\n",
    "df_streets1 = pd.DataFrame(df[df['Fold'] == 2019][['street_name','borough']])\n",
    "df_streets1['count']=1\n",
    "df_streets1 = df_streets1.groupby(['street_name','borough']).sum().sort_values('count', ascending=False)\n",
    "\n",
    "print(\"Total Number of Streets Reporting Problems\",df_streets1.shape,\"in 2019\")\n",
    "df_streets1.head()"
   ]
  },
  {
   "cell_type": "markdown",
   "metadata": {},
   "source": [
    "## Results: Grand Concourse in The Bronx has the highest numbers of HEAT/HOT WATER complaints.\n",
    " - This is hard to show visually, as there are 4329 Streets reporting problems.\n",
    " \n",
    "## But, that is the highest number of complaints, and there can be multiple complaints per building\n",
    " - What about the street with the highest number of complaining properties?"
   ]
  },
  {
   "cell_type": "code",
   "execution_count": 10,
   "metadata": {
    "scrolled": false
   },
   "outputs": [
    {
     "name": "stdout",
     "output_type": "stream",
     "text": [
      "33588 Properties Reporting highest number of Problems in 2019\n"
     ]
    },
    {
     "data": {
      "text/html": [
       "<div>\n",
       "<style scoped>\n",
       "    .dataframe tbody tr th:only-of-type {\n",
       "        vertical-align: middle;\n",
       "    }\n",
       "\n",
       "    .dataframe tbody tr th {\n",
       "        vertical-align: top;\n",
       "    }\n",
       "\n",
       "    .dataframe thead th {\n",
       "        text-align: right;\n",
       "    }\n",
       "</style>\n",
       "<table border=\"1\" class=\"dataframe\">\n",
       "  <thead>\n",
       "    <tr style=\"text-align: right;\">\n",
       "      <th></th>\n",
       "      <th></th>\n",
       "      <th></th>\n",
       "      <th>count</th>\n",
       "    </tr>\n",
       "    <tr>\n",
       "      <th>incident_address</th>\n",
       "      <th>borough</th>\n",
       "      <th>street_name</th>\n",
       "      <th></th>\n",
       "    </tr>\n",
       "  </thead>\n",
       "  <tbody>\n",
       "    <tr>\n",
       "      <th>89-21 ELMHURST AVENUE</th>\n",
       "      <th>QUEENS</th>\n",
       "      <th>ELMHURST AVENUE</th>\n",
       "      <td>3174</td>\n",
       "    </tr>\n",
       "    <tr>\n",
       "      <th>9511 SHORE ROAD</th>\n",
       "      <th>BROOKLYN</th>\n",
       "      <th>SHORE ROAD</th>\n",
       "      <td>1026</td>\n",
       "    </tr>\n",
       "    <tr>\n",
       "      <th>2750 HOMECREST AVENUE</th>\n",
       "      <th>BROOKLYN</th>\n",
       "      <th>HOMECREST AVENUE</th>\n",
       "      <td>855</td>\n",
       "    </tr>\n",
       "    <tr>\n",
       "      <th>2040 BRONXDALE AVENUE</th>\n",
       "      <th>BRONX</th>\n",
       "      <th>BRONXDALE AVENUE</th>\n",
       "      <td>795</td>\n",
       "    </tr>\n",
       "    <tr>\n",
       "      <th>1711 FULTON STREET</th>\n",
       "      <th>BROOKLYN</th>\n",
       "      <th>FULTON STREET</th>\n",
       "      <td>773</td>\n",
       "    </tr>\n",
       "  </tbody>\n",
       "</table>\n",
       "</div>"
      ],
      "text/plain": [
       "                                                 count\n",
       "incident_address      borough  street_name            \n",
       "89-21 ELMHURST AVENUE QUEENS   ELMHURST AVENUE    3174\n",
       "9511 SHORE ROAD       BROOKLYN SHORE ROAD         1026\n",
       "2750 HOMECREST AVENUE BROOKLYN HOMECREST AVENUE    855\n",
       "2040 BRONXDALE AVENUE BRONX    BRONXDALE AVENUE    795\n",
       "1711 FULTON STREET    BROOKLYN FULTON STREET       773"
      ]
     },
     "execution_count": 10,
     "metadata": {},
     "output_type": "execute_result"
    }
   ],
   "source": [
    "# Find the streets within each borough with the worst problems. Street names can repeat in different boroughs, and can be completely differnt streets~\n",
    "df_streets1 = pd.DataFrame(df[df['Fold'] == 2019][['street_name','borough','incident_address']])\n",
    "df_streets1['count']=1\n",
    "df_streets1 = df_streets1.groupby(['incident_address', 'borough', 'street_name']).sum().sort_values('count', ascending=False)\n",
    "\n",
    "print(df_streets1.shape[0],\"Properties Reporting highest number of Problems\",\"in 2019\")\n",
    "df_streets1.head()"
   ]
  },
  {
   "cell_type": "markdown",
   "metadata": {},
   "source": [
    "## Results: Very Interesting! \n",
    " - In the 2018/2019 Fold, Queens had one property that topped all others three to one!\n",
    " - No properites on Grand Concourse were even on the list\n",
    " \n",
    "### Let's look at previous years "
   ]
  },
  {
   "cell_type": "code",
   "execution_count": 11,
   "metadata": {
    "scrolled": false
   },
   "outputs": [
    {
     "name": "stdout",
     "output_type": "stream",
     "text": [
      "37304 Properties Reporting highest number of Problems in 2018\n"
     ]
    },
    {
     "data": {
      "text/html": [
       "<div>\n",
       "<style scoped>\n",
       "    .dataframe tbody tr th:only-of-type {\n",
       "        vertical-align: middle;\n",
       "    }\n",
       "\n",
       "    .dataframe tbody tr th {\n",
       "        vertical-align: top;\n",
       "    }\n",
       "\n",
       "    .dataframe thead th {\n",
       "        text-align: right;\n",
       "    }\n",
       "</style>\n",
       "<table border=\"1\" class=\"dataframe\">\n",
       "  <thead>\n",
       "    <tr style=\"text-align: right;\">\n",
       "      <th></th>\n",
       "      <th></th>\n",
       "      <th></th>\n",
       "      <th>count</th>\n",
       "    </tr>\n",
       "    <tr>\n",
       "      <th>incident_address</th>\n",
       "      <th>borough</th>\n",
       "      <th>street_name</th>\n",
       "      <th></th>\n",
       "    </tr>\n",
       "  </thead>\n",
       "  <tbody>\n",
       "    <tr>\n",
       "      <th>89-21 ELMHURST AVENUE</th>\n",
       "      <th>QUEENS</th>\n",
       "      <th>ELMHURST AVENUE</th>\n",
       "      <td>2758</td>\n",
       "    </tr>\n",
       "    <tr>\n",
       "      <th>1025 BOYNTON AVENUE</th>\n",
       "      <th>BRONX</th>\n",
       "      <th>BOYNTON AVENUE</th>\n",
       "      <td>1249</td>\n",
       "    </tr>\n",
       "    <tr>\n",
       "      <th>9511 SHORE ROAD</th>\n",
       "      <th>BROOKLYN</th>\n",
       "      <th>SHORE ROAD</th>\n",
       "      <td>1198</td>\n",
       "    </tr>\n",
       "    <tr>\n",
       "      <th>2090 EAST TREMONT AVENUE</th>\n",
       "      <th>BRONX</th>\n",
       "      <th>EAST TREMONT AVENUE</th>\n",
       "      <td>1187</td>\n",
       "    </tr>\n",
       "    <tr>\n",
       "      <th>1711 FULTON STREET</th>\n",
       "      <th>BROOKLYN</th>\n",
       "      <th>FULTON STREET</th>\n",
       "      <td>1165</td>\n",
       "    </tr>\n",
       "  </tbody>\n",
       "</table>\n",
       "</div>"
      ],
      "text/plain": [
       "                                                       count\n",
       "incident_address         borough  street_name               \n",
       "89-21 ELMHURST AVENUE    QUEENS   ELMHURST AVENUE       2758\n",
       "1025 BOYNTON AVENUE      BRONX    BOYNTON AVENUE        1249\n",
       "9511 SHORE ROAD          BROOKLYN SHORE ROAD            1198\n",
       "2090 EAST TREMONT AVENUE BRONX    EAST TREMONT AVENUE   1187\n",
       "1711 FULTON STREET       BROOKLYN FULTON STREET         1165"
      ]
     },
     "execution_count": 11,
     "metadata": {},
     "output_type": "execute_result"
    }
   ],
   "source": [
    "# Find the streets within each borough with the worst problems. Street names can repeat in different boroughs, and can be completely differnt streets~\n",
    "df_streets1 = pd.DataFrame(df[df['Fold'] == 2018][['street_name','borough','incident_address']])\n",
    "df_streets1['count']=1\n",
    "df_streets1 = df_streets1.groupby(['incident_address', 'borough', 'street_name']).sum().sort_values('count', ascending=False)\n",
    "\n",
    "print(df_streets1.shape[0],\"Properties Reporting highest number of Problems\",\"in 2018\")\n",
    "df_streets1.head()"
   ]
  },
  {
   "cell_type": "code",
   "execution_count": 12,
   "metadata": {
    "scrolled": false
   },
   "outputs": [
    {
     "name": "stdout",
     "output_type": "stream",
     "text": [
      "33144 Properties Reporting highest number of Problems in 2017\n"
     ]
    },
    {
     "data": {
      "text/html": [
       "<div>\n",
       "<style scoped>\n",
       "    .dataframe tbody tr th:only-of-type {\n",
       "        vertical-align: middle;\n",
       "    }\n",
       "\n",
       "    .dataframe tbody tr th {\n",
       "        vertical-align: top;\n",
       "    }\n",
       "\n",
       "    .dataframe thead th {\n",
       "        text-align: right;\n",
       "    }\n",
       "</style>\n",
       "<table border=\"1\" class=\"dataframe\">\n",
       "  <thead>\n",
       "    <tr style=\"text-align: right;\">\n",
       "      <th></th>\n",
       "      <th></th>\n",
       "      <th></th>\n",
       "      <th>count</th>\n",
       "    </tr>\n",
       "    <tr>\n",
       "      <th>incident_address</th>\n",
       "      <th>borough</th>\n",
       "      <th>street_name</th>\n",
       "      <th></th>\n",
       "    </tr>\n",
       "  </thead>\n",
       "  <tbody>\n",
       "    <tr>\n",
       "      <th>89-21 ELMHURST AVENUE</th>\n",
       "      <th>QUEENS</th>\n",
       "      <th>ELMHURST AVENUE</th>\n",
       "      <td>1469</td>\n",
       "    </tr>\n",
       "    <tr>\n",
       "      <th>1025 BOYNTON AVENUE</th>\n",
       "      <th>BRONX</th>\n",
       "      <th>BOYNTON AVENUE</th>\n",
       "      <td>1352</td>\n",
       "    </tr>\n",
       "    <tr>\n",
       "      <th>2090 EAST TREMONT AVENUE</th>\n",
       "      <th>BRONX</th>\n",
       "      <th>EAST TREMONT AVENUE</th>\n",
       "      <td>844</td>\n",
       "    </tr>\n",
       "    <tr>\n",
       "      <th>2968 PERRY AVENUE</th>\n",
       "      <th>BRONX</th>\n",
       "      <th>PERRY AVENUE</th>\n",
       "      <td>498</td>\n",
       "    </tr>\n",
       "    <tr>\n",
       "      <th>1030 BOYNTON AVENUE</th>\n",
       "      <th>BRONX</th>\n",
       "      <th>BOYNTON AVENUE</th>\n",
       "      <td>467</td>\n",
       "    </tr>\n",
       "  </tbody>\n",
       "</table>\n",
       "</div>"
      ],
      "text/plain": [
       "                                                      count\n",
       "incident_address         borough street_name               \n",
       "89-21 ELMHURST AVENUE    QUEENS  ELMHURST AVENUE       1469\n",
       "1025 BOYNTON AVENUE      BRONX   BOYNTON AVENUE        1352\n",
       "2090 EAST TREMONT AVENUE BRONX   EAST TREMONT AVENUE    844\n",
       "2968 PERRY AVENUE        BRONX   PERRY AVENUE           498\n",
       "1030 BOYNTON AVENUE      BRONX   BOYNTON AVENUE         467"
      ]
     },
     "execution_count": 12,
     "metadata": {},
     "output_type": "execute_result"
    }
   ],
   "source": [
    "# Find the streets within each borough with the worst problems. Street names can repeat in different boroughs, and can be completely differnt streets~\n",
    "df_streets1 = pd.DataFrame(df[df['Fold'] == 2017][['street_name','borough','incident_address']])\n",
    "df_streets1['count']=1\n",
    "df_streets1 = df_streets1.groupby(['incident_address', 'borough', 'street_name']).sum().sort_values('count', ascending=False)\n",
    "\n",
    "print(df_streets1.shape[0],\"Properties Reporting highest number of Problems\",\"in 2017\")\n",
    "df_streets1.head()"
   ]
  },
  {
   "cell_type": "code",
   "execution_count": 13,
   "metadata": {
    "scrolled": false
   },
   "outputs": [
    {
     "name": "stdout",
     "output_type": "stream",
     "text": [
      "34170 Properties Reporting highest number of Problems in 2016\n"
     ]
    },
    {
     "data": {
      "text/html": [
       "<div>\n",
       "<style scoped>\n",
       "    .dataframe tbody tr th:only-of-type {\n",
       "        vertical-align: middle;\n",
       "    }\n",
       "\n",
       "    .dataframe tbody tr th {\n",
       "        vertical-align: top;\n",
       "    }\n",
       "\n",
       "    .dataframe thead th {\n",
       "        text-align: right;\n",
       "    }\n",
       "</style>\n",
       "<table border=\"1\" class=\"dataframe\">\n",
       "  <thead>\n",
       "    <tr style=\"text-align: right;\">\n",
       "      <th></th>\n",
       "      <th></th>\n",
       "      <th></th>\n",
       "      <th>count</th>\n",
       "    </tr>\n",
       "    <tr>\n",
       "      <th>incident_address</th>\n",
       "      <th>borough</th>\n",
       "      <th>street_name</th>\n",
       "      <th></th>\n",
       "    </tr>\n",
       "  </thead>\n",
       "  <tbody>\n",
       "    <tr>\n",
       "      <th>89-21 ELMHURST AVENUE</th>\n",
       "      <th>QUEENS</th>\n",
       "      <th>ELMHURST AVENUE</th>\n",
       "      <td>1708</td>\n",
       "    </tr>\n",
       "    <tr>\n",
       "      <th>34 ARDEN STREET</th>\n",
       "      <th>MANHATTAN</th>\n",
       "      <th>ARDEN STREET</th>\n",
       "      <td>1509</td>\n",
       "    </tr>\n",
       "    <tr>\n",
       "      <th>1025 BOYNTON AVENUE</th>\n",
       "      <th>BRONX</th>\n",
       "      <th>BOYNTON AVENUE</th>\n",
       "      <td>1364</td>\n",
       "    </tr>\n",
       "    <tr>\n",
       "      <th>2090 EAST TREMONT AVENUE</th>\n",
       "      <th>BRONX</th>\n",
       "      <th>EAST TREMONT AVENUE</th>\n",
       "      <td>884</td>\n",
       "    </tr>\n",
       "    <tr>\n",
       "      <th>888 GRAND CONCOURSE</th>\n",
       "      <th>BRONX</th>\n",
       "      <th>GRAND CONCOURSE</th>\n",
       "      <td>798</td>\n",
       "    </tr>\n",
       "  </tbody>\n",
       "</table>\n",
       "</div>"
      ],
      "text/plain": [
       "                                                        count\n",
       "incident_address         borough   street_name               \n",
       "89-21 ELMHURST AVENUE    QUEENS    ELMHURST AVENUE       1708\n",
       "34 ARDEN STREET          MANHATTAN ARDEN STREET          1509\n",
       "1025 BOYNTON AVENUE      BRONX     BOYNTON AVENUE        1364\n",
       "2090 EAST TREMONT AVENUE BRONX     EAST TREMONT AVENUE    884\n",
       "888 GRAND CONCOURSE      BRONX     GRAND CONCOURSE        798"
      ]
     },
     "execution_count": 13,
     "metadata": {},
     "output_type": "execute_result"
    }
   ],
   "source": [
    "# Find the streets within each borough with the worst problems. Street names can repeat in different boroughs, and can be completely differnt streets~\n",
    "df_streets1 = pd.DataFrame(df[df['Fold'] == 2016][['street_name','borough','incident_address']])\n",
    "df_streets1['count']=1\n",
    "df_streets1 = df_streets1.groupby(['incident_address', 'borough', 'street_name']).sum().sort_values('count', ascending=False)\n",
    "\n",
    "print(df_streets1.shape[0],\"Properties Reporting highest number of Problems\",\"in 2016\")\n",
    "df_streets1.head()"
   ]
  },
  {
   "cell_type": "code",
   "execution_count": 14,
   "metadata": {
    "scrolled": false
   },
   "outputs": [
    {
     "name": "stdout",
     "output_type": "stream",
     "text": [
      "38950 Properties Reporting highest number of Problems in 2015\n"
     ]
    },
    {
     "data": {
      "text/html": [
       "<div>\n",
       "<style scoped>\n",
       "    .dataframe tbody tr th:only-of-type {\n",
       "        vertical-align: middle;\n",
       "    }\n",
       "\n",
       "    .dataframe tbody tr th {\n",
       "        vertical-align: top;\n",
       "    }\n",
       "\n",
       "    .dataframe thead th {\n",
       "        text-align: right;\n",
       "    }\n",
       "</style>\n",
       "<table border=\"1\" class=\"dataframe\">\n",
       "  <thead>\n",
       "    <tr style=\"text-align: right;\">\n",
       "      <th></th>\n",
       "      <th></th>\n",
       "      <th></th>\n",
       "      <th>count</th>\n",
       "    </tr>\n",
       "    <tr>\n",
       "      <th>incident_address</th>\n",
       "      <th>borough</th>\n",
       "      <th>street_name</th>\n",
       "      <th></th>\n",
       "    </tr>\n",
       "  </thead>\n",
       "  <tbody>\n",
       "    <tr>\n",
       "      <th>34 ARDEN STREET</th>\n",
       "      <th>MANHATTAN</th>\n",
       "      <th>ARDEN STREET</th>\n",
       "      <td>2258</td>\n",
       "    </tr>\n",
       "    <tr>\n",
       "      <th>554 DE KALB AVENUE</th>\n",
       "      <th>BROOKLYN</th>\n",
       "      <th>DE KALB AVENUE</th>\n",
       "      <td>1092</td>\n",
       "    </tr>\n",
       "    <tr>\n",
       "      <th>9511 SHORE ROAD</th>\n",
       "      <th>BROOKLYN</th>\n",
       "      <th>SHORE ROAD</th>\n",
       "      <td>1073</td>\n",
       "    </tr>\n",
       "    <tr>\n",
       "      <th>1025 BOYNTON AVENUE</th>\n",
       "      <th>BRONX</th>\n",
       "      <th>BOYNTON AVENUE</th>\n",
       "      <td>847</td>\n",
       "    </tr>\n",
       "    <tr>\n",
       "      <th>3810 BAILEY AVENUE</th>\n",
       "      <th>BRONX</th>\n",
       "      <th>BAILEY AVENUE</th>\n",
       "      <td>749</td>\n",
       "    </tr>\n",
       "  </tbody>\n",
       "</table>\n",
       "</div>"
      ],
      "text/plain": [
       "                                              count\n",
       "incident_address    borough   street_name          \n",
       "34 ARDEN STREET     MANHATTAN ARDEN STREET     2258\n",
       "554 DE KALB AVENUE  BROOKLYN  DE KALB AVENUE   1092\n",
       "9511 SHORE ROAD     BROOKLYN  SHORE ROAD       1073\n",
       "1025 BOYNTON AVENUE BRONX     BOYNTON AVENUE    847\n",
       "3810 BAILEY AVENUE  BRONX     BAILEY AVENUE     749"
      ]
     },
     "execution_count": 14,
     "metadata": {},
     "output_type": "execute_result"
    }
   ],
   "source": [
    "# Find the streets within each borough with the worst problems. Street names can repeat in different boroughs, and can be completely differnt streets~\n",
    "df_streets1 = pd.DataFrame(df[df['Fold'] == 2015][['street_name','borough','incident_address']])\n",
    "df_streets1['count']=1\n",
    "df_streets1 = df_streets1.groupby(['incident_address', 'borough', 'street_name']).sum().sort_values('count', ascending=False)\n",
    "\n",
    "print(df_streets1.shape[0],\"Properties Reporting highest number of Problems\",\"in 2015\")\n",
    "\n",
    "df_streets1.head()"
   ]
  },
  {
   "cell_type": "markdown",
   "metadata": {},
   "source": [
    "### interesting that Grand Concourse doesn't show up on this list except once in 2016"
   ]
  },
  {
   "cell_type": "code",
   "execution_count": 15,
   "metadata": {
    "scrolled": false
   },
   "outputs": [
    {
     "name": "stdout",
     "output_type": "stream",
     "text": [
      "Streets Reporting highest number of Problem Properties in 2019\n"
     ]
    },
    {
     "data": {
      "text/html": [
       "<div>\n",
       "<style scoped>\n",
       "    .dataframe tbody tr th:only-of-type {\n",
       "        vertical-align: middle;\n",
       "    }\n",
       "\n",
       "    .dataframe tbody tr th {\n",
       "        vertical-align: top;\n",
       "    }\n",
       "\n",
       "    .dataframe thead th {\n",
       "        text-align: right;\n",
       "    }\n",
       "</style>\n",
       "<table border=\"1\" class=\"dataframe\">\n",
       "  <thead>\n",
       "    <tr style=\"text-align: right;\">\n",
       "      <th></th>\n",
       "      <th></th>\n",
       "      <th>count</th>\n",
       "    </tr>\n",
       "    <tr>\n",
       "      <th>borough</th>\n",
       "      <th>street_name</th>\n",
       "      <th></th>\n",
       "    </tr>\n",
       "  </thead>\n",
       "  <tbody>\n",
       "    <tr>\n",
       "      <th>MANHATTAN</th>\n",
       "      <th>BROADWAY</th>\n",
       "      <td>218</td>\n",
       "    </tr>\n",
       "    <tr>\n",
       "      <th>BROOKLYN</th>\n",
       "      <th>OCEAN AVENUE</th>\n",
       "      <td>209</td>\n",
       "    </tr>\n",
       "    <tr>\n",
       "      <th>BRONX</th>\n",
       "      <th>GRAND CONCOURSE</th>\n",
       "      <td>206</td>\n",
       "    </tr>\n",
       "    <tr>\n",
       "      <th rowspan=\"2\" valign=\"top\">MANHATTAN</th>\n",
       "      <th>AMSTERDAM AVENUE</th>\n",
       "      <td>186</td>\n",
       "    </tr>\n",
       "    <tr>\n",
       "      <th>2 AVENUE</th>\n",
       "      <td>143</td>\n",
       "    </tr>\n",
       "  </tbody>\n",
       "</table>\n",
       "</div>"
      ],
      "text/plain": [
       "                            count\n",
       "borough   street_name            \n",
       "MANHATTAN BROADWAY            218\n",
       "BROOKLYN  OCEAN AVENUE        209\n",
       "BRONX     GRAND CONCOURSE     206\n",
       "MANHATTAN AMSTERDAM AVENUE    186\n",
       "          2 AVENUE            143"
      ]
     },
     "execution_count": 15,
     "metadata": {},
     "output_type": "execute_result"
    }
   ],
   "source": [
    "# Find the streets within each borough with the worst problems. Street names can repeat in different boroughs, and can be completely differnt streets~\n",
    "df_streets1 = pd.DataFrame(df[df['Fold'] == 2019][['street_name','borough','incident_address']])\n",
    "df_streets1['count']=1\n",
    "df_streets1 = df_streets1.groupby(['incident_address', 'borough', 'street_name']).sum().sort_values('count', ascending=False)\n",
    "df_streets1 = df_streets1.reset_index()\n",
    "df_streets1['count']=1\n",
    "df_streets1.drop('incident_address', axis=1, inplace=True)\n",
    "df_streets1 = df_streets1.groupby(['borough', 'street_name']).sum().sort_values('count', ascending=False)\n",
    "print(\"Streets Reporting highest number of Problem Properties\",\"in 2019\")\n",
    "df_streets1.head()"
   ]
  },
  {
   "cell_type": "markdown",
   "metadata": {},
   "source": [
    "## Results: It's really how you want to look at the question\n",
    " - For aggregated complaints for any given year, Grand Concourse has the most complaints\n",
    " - But, if you want to look at streets that have individual buildings that have a lot of complaints, that's different. And it changes from year to year. Most recently the worst building has been in Queens.\n",
    " - Different still, are streets that have the highest number of properies that have complaints. Teams that actually visit these buildings are going to spend a lot of time traveling up and down Broadway, Ocean Avenue, Grand Concourse and Amsterdam Avenue."
   ]
  },
  {
   "cell_type": "markdown",
   "metadata": {},
   "source": []
  },
  {
   "cell_type": "markdown",
   "metadata": {},
   "source": [
    "# Which zipcodes have the worst problems?"
   ]
  },
  {
   "cell_type": "code",
   "execution_count": 16,
   "metadata": {},
   "outputs": [
    {
     "data": {
      "text/html": [
       "<div>\n",
       "<style scoped>\n",
       "    .dataframe tbody tr th:only-of-type {\n",
       "        vertical-align: middle;\n",
       "    }\n",
       "\n",
       "    .dataframe tbody tr th {\n",
       "        vertical-align: top;\n",
       "    }\n",
       "\n",
       "    .dataframe thead th {\n",
       "        text-align: right;\n",
       "    }\n",
       "</style>\n",
       "<table border=\"1\" class=\"dataframe\">\n",
       "  <thead>\n",
       "    <tr style=\"text-align: right;\">\n",
       "      <th></th>\n",
       "      <th>count</th>\n",
       "      <th>cumsum</th>\n",
       "      <th>cumpercent</th>\n",
       "    </tr>\n",
       "    <tr>\n",
       "      <th>incident_zip</th>\n",
       "      <th></th>\n",
       "      <th></th>\n",
       "      <th></th>\n",
       "    </tr>\n",
       "  </thead>\n",
       "  <tbody>\n",
       "    <tr>\n",
       "      <th>10468</th>\n",
       "      <td>5792</td>\n",
       "      <td>186939</td>\n",
       "      <td>0.873665</td>\n",
       "    </tr>\n",
       "    <tr>\n",
       "      <th>10453</th>\n",
       "      <td>5805</td>\n",
       "      <td>192744</td>\n",
       "      <td>0.900795</td>\n",
       "    </tr>\n",
       "    <tr>\n",
       "      <th>10458</th>\n",
       "      <td>6321</td>\n",
       "      <td>199065</td>\n",
       "      <td>0.930336</td>\n",
       "    </tr>\n",
       "    <tr>\n",
       "      <th>10467</th>\n",
       "      <td>6723</td>\n",
       "      <td>205788</td>\n",
       "      <td>0.961756</td>\n",
       "    </tr>\n",
       "    <tr>\n",
       "      <th>11226</th>\n",
       "      <td>8183</td>\n",
       "      <td>213971</td>\n",
       "      <td>1.000000</td>\n",
       "    </tr>\n",
       "  </tbody>\n",
       "</table>\n",
       "</div>"
      ],
      "text/plain": [
       "              count  cumsum  cumpercent\n",
       "incident_zip                           \n",
       "10468          5792  186939    0.873665\n",
       "10453          5805  192744    0.900795\n",
       "10458          6321  199065    0.930336\n",
       "10467          6723  205788    0.961756\n",
       "11226          8183  213971    1.000000"
      ]
     },
     "execution_count": 16,
     "metadata": {},
     "output_type": "execute_result"
    }
   ],
   "source": [
    "df_zip = pd.DataFrame(df[df['Fold'] == 2019][['incident_zip']])\n",
    "df_zip['count']=1\n",
    "df_zip = df_zip.groupby('incident_zip').sum().sort_values('count', ascending=True)\n",
    "df_zip['cumsum'] = df_zip['count'].cumsum()\n",
    "tot = df_zip['count'].sum()\n",
    "df_zip['cumpercent'] = df_zip['cumsum']/tot\n",
    "df_zip.tail()"
   ]
  },
  {
   "cell_type": "markdown",
   "metadata": {},
   "source": [
    "## Zipcode 11226 has the highest numbers of HEATING and HEAT/HOT WATER complaints for the year 2018/2019"
   ]
  },
  {
   "cell_type": "code",
   "execution_count": 17,
   "metadata": {},
   "outputs": [],
   "source": [
    "df_zip['bin']=0\n",
    "df_zip.loc[df_zip['cumpercent']>=0.2,['bin']]=1\n",
    "df_zip.loc[df_zip['cumpercent']>=0.4,['bin']]=2\n",
    "df_zip.loc[df_zip['cumpercent']>=0.6,['bin']]=3\n",
    "df_zip.loc[df_zip['cumpercent']>=0.8,['bin']]=4\n",
    "df_zip.drop(['cumsum','cumpercent'],axis=1, inplace=True)\n"
   ]
  },
  {
   "cell_type": "markdown",
   "metadata": {},
   "source": [
    "### Let's merge some zipcode coordinate data so we can plot the worst areas"
   ]
  },
  {
   "cell_type": "code",
   "execution_count": 18,
   "metadata": {},
   "outputs": [
    {
     "data": {
      "text/html": [
       "<div>\n",
       "<style scoped>\n",
       "    .dataframe tbody tr th:only-of-type {\n",
       "        vertical-align: middle;\n",
       "    }\n",
       "\n",
       "    .dataframe tbody tr th {\n",
       "        vertical-align: top;\n",
       "    }\n",
       "\n",
       "    .dataframe thead th {\n",
       "        text-align: right;\n",
       "    }\n",
       "</style>\n",
       "<table border=\"1\" class=\"dataframe\">\n",
       "  <thead>\n",
       "    <tr style=\"text-align: right;\">\n",
       "      <th></th>\n",
       "      <th>Zip</th>\n",
       "      <th>Latitude</th>\n",
       "      <th>Longitude</th>\n",
       "      <th>count</th>\n",
       "      <th>bin</th>\n",
       "    </tr>\n",
       "  </thead>\n",
       "  <tbody>\n",
       "    <tr>\n",
       "      <th>10001</th>\n",
       "      <td>10001</td>\n",
       "      <td>40.750742</td>\n",
       "      <td>-73.99653</td>\n",
       "      <td>299</td>\n",
       "      <td>0</td>\n",
       "    </tr>\n",
       "    <tr>\n",
       "      <th>10002</th>\n",
       "      <td>10002</td>\n",
       "      <td>40.717040</td>\n",
       "      <td>-73.98700</td>\n",
       "      <td>2007</td>\n",
       "      <td>1</td>\n",
       "    </tr>\n",
       "    <tr>\n",
       "      <th>10003</th>\n",
       "      <td>10003</td>\n",
       "      <td>40.732509</td>\n",
       "      <td>-73.98935</td>\n",
       "      <td>1028</td>\n",
       "      <td>0</td>\n",
       "    </tr>\n",
       "    <tr>\n",
       "      <th>10004</th>\n",
       "      <td>10004</td>\n",
       "      <td>40.699226</td>\n",
       "      <td>-74.04118</td>\n",
       "      <td>12</td>\n",
       "      <td>0</td>\n",
       "    </tr>\n",
       "    <tr>\n",
       "      <th>10005</th>\n",
       "      <td>10005</td>\n",
       "      <td>40.706019</td>\n",
       "      <td>-74.00858</td>\n",
       "      <td>19</td>\n",
       "      <td>0</td>\n",
       "    </tr>\n",
       "  </tbody>\n",
       "</table>\n",
       "</div>"
      ],
      "text/plain": [
       "         Zip   Latitude  Longitude  count  bin\n",
       "10001  10001  40.750742  -73.99653    299    0\n",
       "10002  10002  40.717040  -73.98700   2007    1\n",
       "10003  10003  40.732509  -73.98935   1028    0\n",
       "10004  10004  40.699226  -74.04118     12    0\n",
       "10005  10005  40.706019  -74.00858     19    0"
      ]
     },
     "execution_count": 18,
     "metadata": {},
     "output_type": "execute_result"
    }
   ],
   "source": [
    "\n",
    "zips = pd.read_csv(\"~/Projects/CourseraCapstone/csvs/nyc-zip-code-latitude-and-longitude-2.csv\", index_col = 1, usecols=[1,4,5], dtype={ 1:'str', 4:'float', 5:'float'})\n",
    "zips.join(df_zip, how=\"inner\").head()\n",
    "\n"
   ]
  },
  {
   "cell_type": "code",
   "execution_count": null,
   "metadata": {},
   "outputs": [],
   "source": [
    "\n"
   ]
  },
  {
   "cell_type": "markdown",
   "metadata": {},
   "source": [
    "## Now plot the zipcodes on a map of NYC\n",
    " - I've split the zipcodes into 5 bins\n",
    " - Red are the top >80%\n",
    " - Orange are the >60%\n",
    " - Yellow is > 40%\n",
    " - Green is > 20%\n",
    " - I've decided not to show the zipcodes <20%\n",
    " "
   ]
  },
  {
   "cell_type": "code",
   "execution_count": 19,
   "metadata": {
    "scrolled": true
   },
   "outputs": [
    {
     "data": {
      "text/html": [
       "<div style=\"width:100%;\"><div style=\"position:relative;width:100%;height:0;padding-bottom:60%;\"><iframe src=\"data:text/html;charset=utf-8;base64,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\" style=\"position:absolute;width:100%;height:100%;left:0;top:0;border:none !important;\" allowfullscreen webkitallowfullscreen mozallowfullscreen></iframe></div></div>"
      ],
      "text/plain": [
       "<folium.folium.Map at 0x1264b27b8>"
      ]
     },
     "execution_count": 19,
     "metadata": {},
     "output_type": "execute_result"
    }
   ],
   "source": [
    "#\n",
    "# now attach the kmeans data to the original df_ten data frame so it can be displayed\n",
    "#\n",
    "colors = ['blue','green','yellow','orange','red','orange','purple', 'brown', 'pink', 'white', 'black']\n",
    "nyc = {'latitude':40.750742,'longitude':-73.79653}\n",
    "\n",
    "#df_ten['kmeans_label'] = kmeans.labels_\n",
    "#df_ten['kmeans_color'] = df_ten['kmeans_label'].apply(lambda x: colors[x%10])\n",
    "\n",
    "# create map of New York using latitude and longitude values\n",
    "map_nyc = folium.Map(location=[nyc['latitude'], nyc['longitude']], zoom_start=11)\n",
    "\n",
    "for index, row in zips.join(df_zip, how=\"inner\").iterrows():\n",
    "    zipc, lat, lng, amount, bin = row \n",
    "    if (bin == 0):\n",
    "        continue\n",
    "    \n",
    "    label = 'Zipcode {}, {} complaints'.format(int(zipc),int(amount))\n",
    "    label = folium.Popup(label, parse_html=True)\n",
    "    folium.CircleMarker(\n",
    "        [lat, lng],\n",
    "        radius=5,\n",
    "        popup=label,\n",
    "        color=colors[int(bin)],\n",
    "        fill=True,\n",
    "        fill_color='#3186cc',\n",
    "        fill_opacity=0.7,\n",
    "        parse_html=False).add_to(map_nyc)\n",
    "\n",
    "    \n",
    "map_nyc\n"
   ]
  },
  {
   "cell_type": "markdown",
   "metadata": {},
   "source": [
    "## Conclusions\n",
    "\n",
    "IT REALLY PAYS TO REVIEW THE DATA\n",
    " - While there are unspecified Boroughs, there is really only one in our data set. We can manuyally check its coordinates in order to place it properly in the Bronx.\n",
    " \n",
    " - The same street name can appear in different boroughs and throw off the counts. It is important to identify the streets within the borough.\n",
    " \n",
    " - Zipcodes can be displayed as colored dots on a map. The worst zipcodes seem to cluster together in Harlem (the north end of Manhattan) and in Brooklyn and the Bronx.\n",
    "\n",
    "### Results: \n",
    "\n",
    " - From 2015 through 2019 The Bronx had the worst HEAT/HOT WATER related problem, with the exception of 2018, when Brookly had slightly more problems\n",
    " - Grand Concourse in The Bronx has the highest numbers of HEAT/HOT WATER complaints.\n",
    " - Zipcode 11226 has the highest numbers of HEATING and HEAT/HOT WATER complaints for the year 2018/2019 "
   ]
  },
  {
   "cell_type": "code",
   "execution_count": null,
   "metadata": {},
   "outputs": [],
   "source": []
  }
 ],
 "metadata": {
  "kernelspec": {
   "display_name": "Python 3",
   "language": "python",
   "name": "python3"
  },
  "language_info": {
   "codemirror_mode": {
    "name": "ipython",
    "version": 3
   },
   "file_extension": ".py",
   "mimetype": "text/x-python",
   "name": "python",
   "nbconvert_exporter": "python",
   "pygments_lexer": "ipython3",
   "version": "3.7.3"
  }
 },
 "nbformat": 4,
 "nbformat_minor": 2
}
