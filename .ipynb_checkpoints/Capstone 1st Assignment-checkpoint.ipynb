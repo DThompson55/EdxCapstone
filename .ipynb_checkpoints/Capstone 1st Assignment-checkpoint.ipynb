{
 "cells": [
  {
   "cell_type": "markdown",
   "metadata": {},
   "source": [
    "# Data Science and Machine Learning Capstone Project\n",
    "<div style=\"text-align: right\">\n",
    " Dan Thompson         </br> \n",
    " danlthom@us.ibm.com  </br>\n",
    " August, 2019         </br>\n",
    "</div>\n",
    "\n",
    "## Project 1 - Which type of complaint should the Department of Housing Preservation and Development of New York City focus on first?"
   ]
  },
  {
   "cell_type": "code",
   "execution_count": 2,
   "metadata": {},
   "outputs": [],
   "source": [
    "import pandas as pd\n",
    "import numpy as np\n",
    "import matplotlib.pyplot as plt\n",
    "\n",
    "%matplotlib inline"
   ]
  },
  {
   "cell_type": "code",
   "execution_count": 3,
   "metadata": {},
   "outputs": [],
   "source": [
    "#pip install pandas-profiling "
   ]
  },
  {
   "cell_type": "code",
   "execution_count": 4,
   "metadata": {},
   "outputs": [],
   "source": [
    "df = pd.read_pickle('./files/df_311.pkl')"
   ]
  },
  {
   "cell_type": "code",
   "execution_count": 5,
   "metadata": {},
   "outputs": [
    {
     "data": {
      "text/plain": [
       "HEAT/HOT WATER          1149530\n",
       "HEATING                  887869\n",
       "PLUMBING                 701695\n",
       "GENERAL CONSTRUCTION     500863\n",
       "UNSANITARY CONDITION     433927\n",
       "PAINT - PLASTER          361258\n",
       "PAINT/PLASTER            340500\n",
       "ELECTRIC                 302890\n",
       "NONCONST                 260890\n",
       "DOOR/WINDOW              199188\n",
       "Name: complaint_type, dtype: int64"
      ]
     },
     "execution_count": 5,
     "metadata": {},
     "output_type": "execute_result"
    }
   ],
   "source": [
    "df['complaint_type'].value_counts()[:10]"
   ]
  },
  {
   "cell_type": "markdown",
   "metadata": {},
   "source": [
    "# Clearly Heating and Heat/Hot Water are the top categories\n",
    " - But, they are related, so let's combine them...\n",
    "\n",
    "## Combine Heating with Heat/Hot Water\n",
    " - Also, there are two categories of Paint/Plaster\n",
    " - And there are several categories that are repeated in uppercase and lowercase, so we'll combine them\n",
    "\n"
   ]
  },
  {
   "cell_type": "code",
   "execution_count": 10,
   "metadata": {},
   "outputs": [
    {
     "data": {
      "text/plain": [
       "HEAT/HOT WATER          2037399\n",
       "PAINT/PLASTER            701758\n",
       "PLUMBING                 701706\n",
       "GENERAL CONSTRUCTION     500863\n",
       "UNSANITARY CONDITION     439426\n",
       "ELECTRIC                 302890\n",
       "NONCONST                 260890\n",
       "DOOR/WINDOW              199188\n",
       "WATER LEAK               186459\n",
       "GENERAL                  146729\n",
       "Name: complaint_type, dtype: int64"
      ]
     },
     "execution_count": 10,
     "metadata": {},
     "output_type": "execute_result"
    }
   ],
   "source": [
    "# Combine Heat problems\n",
    "# Combine Paint/Plaster\n",
    "# Combine uppercase/lowercase spellings\n",
    "\n",
    "df.loc[df['complaint_type'] == \"HEATING\",['complaint_type']]=\"HEAT/HOT WATER\"\n",
    "df.loc[df['complaint_type'] == \"PAINT - PLASTER\",['complaint_type']]=\"PAINT/PLASTER\"\n",
    "df['complaint_type'] = df['complaint_type'].str.upper()\n",
    "\n",
    "df['complaint_type'].value_counts()[:10]"
   ]
  },
  {
   "cell_type": "markdown",
   "metadata": {},
   "source": [
    "# Now the combined Heat/Hot Water Complaints are at the top of the list\n",
    "## Let's show a Bar Chart of all of the categories\n"
   ]
  },
  {
   "cell_type": "code",
   "execution_count": 7,
   "metadata": {},
   "outputs": [
    {
     "data": {
      "image/png": "[encoded data removed]",
      "text/plain": [
       "<Figure size 720x720 with 1 Axes>"
      ]
     },
     "metadata": {
      "needs_background": "light"
     },
     "output_type": "display_data"
    }
   ],
   "source": [
    "#\n",
    "# Plot (BARH) all of the complaint types\n",
    "#\n",
    "\n",
    "df_complaints = pd.DataFrame(df['complaint_type'].value_counts())\n",
    "df_complaints.plot(kind=\"barh\", figsize=(10,10))\n",
    "plt.gca().invert_yaxis()\n"
   ]
  },
  {
   "cell_type": "markdown",
   "metadata": {},
   "source": [
    "The bar chart shows the number heating complaints is almost 3 times greater than the next two closest complaint caegories. "
   ]
  },
  {
   "cell_type": "markdown",
   "metadata": {},
   "source": [
    "# Further Investigation\n",
    " - Let's break this down by year.\n",
    " - Even better, let's develop some folds, each of which is a year long!\n",
    " - We can use folds to validate our models in later assignements\n",
    " - Folds are better than random sampling for timebased data such as these complaint calls\n",
    " - A fold is set of 365 days\n",
    " - Given that the current year ends on August 16th, let's use that as the end of a fold\n",
    " - Then we'll make a list of the top values and narrow the DataFrame to just the top 10"
   ]
  },
  {
   "cell_type": "code",
   "execution_count": 8,
   "metadata": {},
   "outputs": [],
   "source": [
    "#\n",
    "#  Create Folds\n",
    "#\n",
    "\n",
    "df['DayOfYear'] = df['created_date'].dt.dayofyear\n",
    "df['Year'] = df['created_date'].dt.year\n",
    "d = (365-229)                        # August 16th is the 229th day of this year. So let's wrap the folds into the previous year.\n",
    "m = df['Year'].min()                 # First year of the dataset, most of which we'll throw away\n",
    "df['SEQ'] = (df['DayOfYear']+d)%365  # The first day of our fold\n",
    "df['Fold'] = df['Year']            # The fold number \n",
    "df.loc[df['SEQ'] <= d,['Fold']]=df['Year']+1 # The fold number for days between Aug 19 and Dec 31#\n",
    "#df.Fold.astype(str)\n",
    "df = df[df['Fold'] > 0]             # We can throw out fold zero because it is incomplete"
   ]
  },
  {
   "cell_type": "code",
   "execution_count": 9,
   "metadata": {},
   "outputs": [],
   "source": [
    "#\n",
    "# This part is not important. It's just an exercise in displaying the top 10 list\n",
    "#\n",
    "\n",
    "top_values = pd.DataFrame(df['complaint_type'].value_counts()[:10]).reset_index()['index']\n",
    "\n",
    "df = df[df['complaint_type'].isin(top_values.tolist())]"
   ]
  },
  {
   "cell_type": "code",
   "execution_count": 11,
   "metadata": {},
   "outputs": [
    {
     "name": "stdout",
     "output_type": "stream",
     "text": [
      "Top 10 List\n",
      "0          HEAT/HOT WATER\n",
      "1           PAINT/PLASTER\n",
      "2                PLUMBING\n",
      "3    GENERAL CONSTRUCTION\n",
      "4    UNSANITARY CONDITION\n",
      "5                ELECTRIC\n",
      "6                NONCONST\n",
      "7             DOOR/WINDOW\n",
      "8              WATER LEAK\n",
      "9                 GENERAL\n",
      "Name: index, dtype: object\n"
     ]
    }
   ],
   "source": [
    "print (\"Top 10 List\")\n",
    "print (top_values)"
   ]
  },
  {
   "cell_type": "code",
   "execution_count": 12,
   "metadata": {},
   "outputs": [
    {
     "data": {
      "text/html": [
       "<div>\n",
       "<style scoped>\n",
       "    .dataframe tbody tr th:only-of-type {\n",
       "        vertical-align: middle;\n",
       "    }\n",
       "\n",
       "    .dataframe tbody tr th {\n",
       "        vertical-align: top;\n",
       "    }\n",
       "\n",
       "    .dataframe thead th {\n",
       "        text-align: right;\n",
       "    }\n",
       "</style>\n",
       "<table border=\"1\" class=\"dataframe\">\n",
       "  <thead>\n",
       "    <tr style=\"text-align: right;\">\n",
       "      <th></th>\n",
       "      <th>HEAT/HOT WATER</th>\n",
       "      <th>PAINT/PLASTER</th>\n",
       "      <th>PLUMBING</th>\n",
       "      <th>GENERAL CONSTRUCTION</th>\n",
       "      <th>UNSANITARY CONDITION</th>\n",
       "      <th>ELECTRIC</th>\n",
       "      <th>NONCONST</th>\n",
       "      <th>DOOR/WINDOW</th>\n",
       "      <th>WATER LEAK</th>\n",
       "      <th>GENERAL</th>\n",
       "    </tr>\n",
       "    <tr>\n",
       "      <th>Fold</th>\n",
       "      <th></th>\n",
       "      <th></th>\n",
       "      <th></th>\n",
       "      <th></th>\n",
       "      <th></th>\n",
       "      <th></th>\n",
       "      <th></th>\n",
       "      <th></th>\n",
       "      <th></th>\n",
       "      <th></th>\n",
       "    </tr>\n",
       "  </thead>\n",
       "  <tbody>\n",
       "    <tr>\n",
       "      <th>2010</th>\n",
       "      <td>102727.0</td>\n",
       "      <td>58599.0</td>\n",
       "      <td>69861.0</td>\n",
       "      <td>78208.0</td>\n",
       "      <td>0.0</td>\n",
       "      <td>24158.0</td>\n",
       "      <td>40487.0</td>\n",
       "      <td>0.0</td>\n",
       "      <td>0.0</td>\n",
       "      <td>0.0</td>\n",
       "    </tr>\n",
       "    <tr>\n",
       "      <th>2011</th>\n",
       "      <td>218578.0</td>\n",
       "      <td>91330.0</td>\n",
       "      <td>107145.0</td>\n",
       "      <td>126769.0</td>\n",
       "      <td>0.0</td>\n",
       "      <td>38051.0</td>\n",
       "      <td>70634.0</td>\n",
       "      <td>0.0</td>\n",
       "      <td>0.0</td>\n",
       "      <td>0.0</td>\n",
       "    </tr>\n",
       "    <tr>\n",
       "      <th>2012</th>\n",
       "      <td>180794.0</td>\n",
       "      <td>93195.0</td>\n",
       "      <td>102881.0</td>\n",
       "      <td>125886.0</td>\n",
       "      <td>0.0</td>\n",
       "      <td>36028.0</td>\n",
       "      <td>64395.0</td>\n",
       "      <td>0.0</td>\n",
       "      <td>0.0</td>\n",
       "      <td>0.0</td>\n",
       "    </tr>\n",
       "    <tr>\n",
       "      <th>2013</th>\n",
       "      <td>201767.0</td>\n",
       "      <td>79153.0</td>\n",
       "      <td>88528.0</td>\n",
       "      <td>115658.0</td>\n",
       "      <td>0.0</td>\n",
       "      <td>36753.0</td>\n",
       "      <td>56139.0</td>\n",
       "      <td>0.0</td>\n",
       "      <td>0.0</td>\n",
       "      <td>8.0</td>\n",
       "    </tr>\n",
       "    <tr>\n",
       "      <th>2014</th>\n",
       "      <td>222469.0</td>\n",
       "      <td>78123.0</td>\n",
       "      <td>74126.0</td>\n",
       "      <td>54342.0</td>\n",
       "      <td>31634.0</td>\n",
       "      <td>32126.0</td>\n",
       "      <td>29235.0</td>\n",
       "      <td>14968.0</td>\n",
       "      <td>16242.0</td>\n",
       "      <td>19017.0</td>\n",
       "    </tr>\n",
       "  </tbody>\n",
       "</table>\n",
       "</div>"
      ],
      "text/plain": [
       "      HEAT/HOT WATER  PAINT/PLASTER  PLUMBING  GENERAL CONSTRUCTION  \\\n",
       "Fold                                                                  \n",
       "2010        102727.0        58599.0   69861.0               78208.0   \n",
       "2011        218578.0        91330.0  107145.0              126769.0   \n",
       "2012        180794.0        93195.0  102881.0              125886.0   \n",
       "2013        201767.0        79153.0   88528.0              115658.0   \n",
       "2014        222469.0        78123.0   74126.0               54342.0   \n",
       "\n",
       "      UNSANITARY CONDITION  ELECTRIC  NONCONST  DOOR/WINDOW  WATER LEAK  \\\n",
       "Fold                                                                      \n",
       "2010                   0.0   24158.0   40487.0          0.0         0.0   \n",
       "2011                   0.0   38051.0   70634.0          0.0         0.0   \n",
       "2012                   0.0   36028.0   64395.0          0.0         0.0   \n",
       "2013                   0.0   36753.0   56139.0          0.0         0.0   \n",
       "2014               31634.0   32126.0   29235.0      14968.0     16242.0   \n",
       "\n",
       "      GENERAL  \n",
       "Fold           \n",
       "2010      0.0  \n",
       "2011      0.0  \n",
       "2012      0.0  \n",
       "2013      8.0  \n",
       "2014  19017.0  "
      ]
     },
     "execution_count": 12,
     "metadata": {},
     "output_type": "execute_result"
    }
   ],
   "source": [
    "#\n",
    "# Prepare to plot the top 10 by Fold / Year\n",
    "#\n",
    "\n",
    "df_x = df[(df['Fold'] > 0) & (df['complaint_type'].isin(top_values))] \n",
    "df_d = pd.get_dummies(df_x['complaint_type'])\n",
    "df_d = df_x.join(df_d, how=\"left\")\n",
    "df_d.head()\n",
    "df_d = df_d.groupby(by=['Fold']).sum()[top_values]\n",
    "df_d.head()"
   ]
  },
  {
   "cell_type": "code",
   "execution_count": 11,
   "metadata": {},
   "outputs": [
    {
     "data": {
      "text/plain": [
       "<matplotlib.axes._subplots.AxesSubplot at 0x108de4a58>"
      ]
     },
     "execution_count": 11,
     "metadata": {},
     "output_type": "execute_result"
    },
    {
     "data": {
      "image/png": "[encoded data removed]",
      "text/plain": [
       "<Figure size 720x576 with 1 Axes>"
      ]
     },
     "metadata": {
      "needs_background": "light"
     },
     "output_type": "display_data"
    }
   ],
   "source": [
    "df_d.plot(figsize=(10,8), title=\"311 Call Type Freqency By Year\" )\n"
   ]
  },
  {
   "cell_type": "markdown",
   "metadata": {},
   "source": []
  },
  {
   "cell_type": "markdown",
   "metadata": {},
   "source": [
    "# Top 10 complaints for folds 2011 through 2019\n",
    "\n",
    "## Big Insight! Clearly something changed around 2014/2015\n",
    " - NYC changed the way they collect / count data in 2014/2015, which is our fold #5\n",
    " - The data looks stable starting in 2015\n",
    " - Therefore we can just use the last 5 folds worth of data\n",
    " - It is clear that Heating Problems outpace other problems by a huge amount."
   ]
  },
  {
   "cell_type": "markdown",
   "metadata": {},
   "source": [
    "## Let's save the 5 years of heat/hot water complaints to a pickle file"
   ]
  },
  {
   "cell_type": "code",
   "execution_count": 12,
   "metadata": {},
   "outputs": [
    {
     "data": {
      "text/html": [
       "<div>\n",
       "<style scoped>\n",
       "    .dataframe tbody tr th:only-of-type {\n",
       "        vertical-align: middle;\n",
       "    }\n",
       "\n",
       "    .dataframe tbody tr th {\n",
       "        vertical-align: top;\n",
       "    }\n",
       "\n",
       "    .dataframe thead th {\n",
       "        text-align: right;\n",
       "    }\n",
       "</style>\n",
       "<table border=\"1\" class=\"dataframe\">\n",
       "  <thead>\n",
       "    <tr style=\"text-align: right;\">\n",
       "      <th></th>\n",
       "      <th>created_date</th>\n",
       "      <th>complaint_type</th>\n",
       "      <th>incident_zip</th>\n",
       "      <th>incident_address</th>\n",
       "      <th>street_name</th>\n",
       "      <th>address_type</th>\n",
       "      <th>city</th>\n",
       "      <th>resolution_description</th>\n",
       "      <th>borough</th>\n",
       "      <th>latitude</th>\n",
       "      <th>longitude</th>\n",
       "      <th>location_type</th>\n",
       "      <th>status</th>\n",
       "      <th>DayOfYear</th>\n",
       "      <th>Year</th>\n",
       "      <th>SEQ</th>\n",
       "      <th>Fold</th>\n",
       "    </tr>\n",
       "    <tr>\n",
       "      <th>unique_key</th>\n",
       "      <th></th>\n",
       "      <th></th>\n",
       "      <th></th>\n",
       "      <th></th>\n",
       "      <th></th>\n",
       "      <th></th>\n",
       "      <th></th>\n",
       "      <th></th>\n",
       "      <th></th>\n",
       "      <th></th>\n",
       "      <th></th>\n",
       "      <th></th>\n",
       "      <th></th>\n",
       "      <th></th>\n",
       "      <th></th>\n",
       "      <th></th>\n",
       "      <th></th>\n",
       "    </tr>\n",
       "  </thead>\n",
       "  <tbody>\n",
       "    <tr>\n",
       "      <th>43568281</th>\n",
       "      <td>2019-08-16 07:50:14</td>\n",
       "      <td>HEAT/HOT WATER</td>\n",
       "      <td>11216</td>\n",
       "      <td>751 ST MARKS AVENUE</td>\n",
       "      <td>ST MARKS AVENUE</td>\n",
       "      <td>ADDRESS</td>\n",
       "      <td>BROOKLYN</td>\n",
       "      <td>The following complaint conditions are still o...</td>\n",
       "      <td>BROOKLYN</td>\n",
       "      <td>40.675098</td>\n",
       "      <td>-73.947870</td>\n",
       "      <td>RESIDENTIAL BUILDING</td>\n",
       "      <td>Open</td>\n",
       "      <td>228</td>\n",
       "      <td>2019</td>\n",
       "      <td>364</td>\n",
       "      <td>2019</td>\n",
       "    </tr>\n",
       "    <tr>\n",
       "      <th>43561061</th>\n",
       "      <td>2019-08-16 11:51:14</td>\n",
       "      <td>HEAT/HOT WATER</td>\n",
       "      <td>11224</td>\n",
       "      <td>2843 WEST   25 STREET</td>\n",
       "      <td>WEST   25 STREET</td>\n",
       "      <td>ADDRESS</td>\n",
       "      <td>BROOKLYN</td>\n",
       "      <td>The complaint you filed is a duplicate of a co...</td>\n",
       "      <td>BROOKLYN</td>\n",
       "      <td>40.577074</td>\n",
       "      <td>-73.992419</td>\n",
       "      <td>RESIDENTIAL BUILDING</td>\n",
       "      <td>Open</td>\n",
       "      <td>228</td>\n",
       "      <td>2019</td>\n",
       "      <td>364</td>\n",
       "      <td>2019</td>\n",
       "    </tr>\n",
       "    <tr>\n",
       "      <th>43565793</th>\n",
       "      <td>2019-08-16 22:25:58</td>\n",
       "      <td>HEAT/HOT WATER</td>\n",
       "      <td>10452</td>\n",
       "      <td>80 WEST  170 STREET</td>\n",
       "      <td>WEST  170 STREET</td>\n",
       "      <td>ADDRESS</td>\n",
       "      <td>BRONX</td>\n",
       "      <td>The following complaint conditions are still o...</td>\n",
       "      <td>BRONX</td>\n",
       "      <td>40.840342</td>\n",
       "      <td>-73.922157</td>\n",
       "      <td>RESIDENTIAL BUILDING</td>\n",
       "      <td>Open</td>\n",
       "      <td>228</td>\n",
       "      <td>2019</td>\n",
       "      <td>364</td>\n",
       "      <td>2019</td>\n",
       "    </tr>\n",
       "    <tr>\n",
       "      <th>43567272</th>\n",
       "      <td>2019-08-16 06:07:17</td>\n",
       "      <td>HEAT/HOT WATER</td>\n",
       "      <td>10031</td>\n",
       "      <td>723 ST NICHOLAS AVENUE</td>\n",
       "      <td>ST NICHOLAS AVENUE</td>\n",
       "      <td>ADDRESS</td>\n",
       "      <td>NEW YORK</td>\n",
       "      <td>The complaint you filed is a duplicate of a co...</td>\n",
       "      <td>MANHATTAN</td>\n",
       "      <td>40.824803</td>\n",
       "      <td>-73.944212</td>\n",
       "      <td>RESIDENTIAL BUILDING</td>\n",
       "      <td>Open</td>\n",
       "      <td>228</td>\n",
       "      <td>2019</td>\n",
       "      <td>364</td>\n",
       "      <td>2019</td>\n",
       "    </tr>\n",
       "    <tr>\n",
       "      <th>43563447</th>\n",
       "      <td>2019-08-16 08:45:38</td>\n",
       "      <td>HEAT/HOT WATER</td>\n",
       "      <td>10461</td>\n",
       "      <td>3108 WILKINSON AVENUE</td>\n",
       "      <td>WILKINSON AVENUE</td>\n",
       "      <td>ADDRESS</td>\n",
       "      <td>BRONX</td>\n",
       "      <td>The complaint you filed is a duplicate of a co...</td>\n",
       "      <td>BRONX</td>\n",
       "      <td>40.851653</td>\n",
       "      <td>-73.828635</td>\n",
       "      <td>RESIDENTIAL BUILDING</td>\n",
       "      <td>Open</td>\n",
       "      <td>228</td>\n",
       "      <td>2019</td>\n",
       "      <td>364</td>\n",
       "      <td>2019</td>\n",
       "    </tr>\n",
       "  </tbody>\n",
       "</table>\n",
       "</div>"
      ],
      "text/plain": [
       "                  created_date  complaint_type incident_zip  \\\n",
       "unique_key                                                    \n",
       "43568281   2019-08-16 07:50:14  HEAT/HOT WATER        11216   \n",
       "43561061   2019-08-16 11:51:14  HEAT/HOT WATER        11224   \n",
       "43565793   2019-08-16 22:25:58  HEAT/HOT WATER        10452   \n",
       "43567272   2019-08-16 06:07:17  HEAT/HOT WATER        10031   \n",
       "43563447   2019-08-16 08:45:38  HEAT/HOT WATER        10461   \n",
       "\n",
       "                  incident_address         street_name address_type      city  \\\n",
       "unique_key                                                                      \n",
       "43568281       751 ST MARKS AVENUE     ST MARKS AVENUE      ADDRESS  BROOKLYN   \n",
       "43561061     2843 WEST   25 STREET    WEST   25 STREET      ADDRESS  BROOKLYN   \n",
       "43565793       80 WEST  170 STREET    WEST  170 STREET      ADDRESS     BRONX   \n",
       "43567272    723 ST NICHOLAS AVENUE  ST NICHOLAS AVENUE      ADDRESS  NEW YORK   \n",
       "43563447     3108 WILKINSON AVENUE    WILKINSON AVENUE      ADDRESS     BRONX   \n",
       "\n",
       "                                       resolution_description    borough  \\\n",
       "unique_key                                                                 \n",
       "43568281    The following complaint conditions are still o...   BROOKLYN   \n",
       "43561061    The complaint you filed is a duplicate of a co...   BROOKLYN   \n",
       "43565793    The following complaint conditions are still o...      BRONX   \n",
       "43567272    The complaint you filed is a duplicate of a co...  MANHATTAN   \n",
       "43563447    The complaint you filed is a duplicate of a co...      BRONX   \n",
       "\n",
       "             latitude  longitude         location_type status  DayOfYear  \\\n",
       "unique_key                                                                 \n",
       "43568281    40.675098 -73.947870  RESIDENTIAL BUILDING   Open        228   \n",
       "43561061    40.577074 -73.992419  RESIDENTIAL BUILDING   Open        228   \n",
       "43565793    40.840342 -73.922157  RESIDENTIAL BUILDING   Open        228   \n",
       "43567272    40.824803 -73.944212  RESIDENTIAL BUILDING   Open        228   \n",
       "43563447    40.851653 -73.828635  RESIDENTIAL BUILDING   Open        228   \n",
       "\n",
       "            Year  SEQ  Fold  \n",
       "unique_key                   \n",
       "43568281    2019  364  2019  \n",
       "43561061    2019  364  2019  \n",
       "43565793    2019  364  2019  \n",
       "43567272    2019  364  2019  \n",
       "43563447    2019  364  2019  "
      ]
     },
     "execution_count": 12,
     "metadata": {},
     "output_type": "execute_result"
    }
   ],
   "source": [
    "df_hot = df[(df['Fold'] > 2014) & (df['complaint_type'] == \"HEAT/HOT WATER\")] \n",
    "df_hot.head()"
   ]
  },
  {
   "cell_type": "markdown",
   "metadata": {},
   "source": [
    "## Let's save that to a pickle file for the next Assignment"
   ]
  },
  {
   "cell_type": "code",
   "execution_count": 13,
   "metadata": {},
   "outputs": [],
   "source": [
    "df_hot.to_pickle('./files/df_hot.pkl')"
   ]
  },
  {
   "cell_type": "markdown",
   "metadata": {},
   "source": [
    "# Conclusions\n",
    "\n",
    "First off, always look at the data. I found several categories that were repeated, spelled differently, or had name changes. If you don't look at the data you'll never find these errors.\n",
    "\n",
    "Next, my initial discovery showed that Heating and Heat/Hot Water complaints were the top categories. However, it is clear that these two categories are really the same and must be combined.  \n",
    "\n",
    "Next, I divided the data into folds, each spanning one year, offset by about 4 months. \n",
    "\n",
    "## Major Insights\n",
    "\n",
    "Plotting the top ten categories shows that NYC changed the way they collect data starting in the 2014/2015  \n",
    "5 years of data is enough for later analysis.  \n",
    "Heating problems continue to outpace other problems by a huge amount.\n",
    "\n",
    "ALWAYS LOOK AT THE DATA BEFORE YOU START WORKING WITH IT! IT COULD BE UGLY!!!\n",
    "\n",
    "Daniel Thompson  \n",
    "danlthom@us.ibm.com  \n",
    "August 2019  \n"
   ]
  },
  {
   "cell_type": "code",
   "execution_count": null,
   "metadata": {},
   "outputs": [],
   "source": []
  }
 ],
 "metadata": {
  "kernelspec": {
   "display_name": "Python 3",
   "language": "python",
   "name": "python3"
  },
  "language_info": {
   "codemirror_mode": {
    "name": "ipython",
    "version": 3
   },
   "file_extension": ".py",
   "mimetype": "text/x-python",
   "name": "python",
   "nbconvert_exporter": "python",
   "pygments_lexer": "ipython3",
   "version": "3.7.3"
  }
 },
 "nbformat": 4,
 "nbformat_minor": 2
}
