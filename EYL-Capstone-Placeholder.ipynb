{
 "cells": [
  {
   "cell_type": "code",
   "execution_count": 1,
   "metadata": {},
   "outputs": [],
   "source": [
    "# EYL-Capstone-Placeholder"
   ]
  },
  {
   "cell_type": "markdown",
   "metadata": {},
   "source": [
    "# This is how to access the object store, but it times out when run locally\n",
    "-->\n",
    "import sys\n",
    "import types\n",
    "import pandas as pd\n",
    "import ibm_boto3\n",
    "from ibm_botocore.client import Config, ClientError\n",
    "\n",
    "\n",
    "def __iter__(self): return 0\n",
    "\n",
    "# @hidden_cell\n",
    "# The following code accesses a file in your IBM Cloud Object Storage. It includes your credentials.\n",
    "# You might want to remove those credentials before you share your notebook.\n",
    "client_4b16bd7d10374b51bb1e27f0ff9b6dc3 = ibm_boto3.client(service_name='s3',\n",
    "    ibm_api_key_id='Nu-M5IiT1WXLHiI7FU0MN_I1cT6-W6zWEgxUoc2Q_WYR',\n",
    "    ibm_auth_endpoint=\"https://iam.ng.bluemix.net/oidc/token\",\n",
    "    config=Config(signature_version='oauth'),\n",
    "    endpoint_url='https://s3-api.us-geo.objectstorage.service.networklayer.com')\n",
    "\n",
    "body = client_4b16bd7d10374b51bb1e27f0ff9b6dc3.get_object(Bucket='eylcapstone-donotdelete-pr-6zqwnwjq3yjpiv',Key='automobileEDA.csv')['Body']\n",
    "# add missing __iter__ method, so pandas accepts body as file-like object\n",
    "if not hasattr(body, \"__iter__\"): body.__iter__ = types.MethodType( __iter__, body )\n",
    "\n",
    "df_data_1 = pd.read_csv(body)\n",
    "df_data_1.head()\n",
    "<--"
   ]
  },
  {
   "cell_type": "code",
   "execution_count": null,
   "metadata": {},
   "outputs": [],
   "source": [
    "#Retrieve dataframe from object storage\n",
    "\n",
    "client_cred.download_file(Bucket=bucket,Key='df_raw_cos.pkl',Filename='./df_raw_local.pkl')\n",
    "df = pd.read_pickle('./df_raw_local.pkl')\n"
   ]
  },
  {
   "cell_type": "code",
   "execution_count": null,
   "metadata": {},
   "outputs": [],
   "source": [
    "#Save dataframe to object storage\n",
    "\n",
    "df.to_pickle('./df_raw.pkl')\n",
    "client_cred.upload_file('./df_raw.pkl',bucket,'df_raw_cos.pkl')"
   ]
  },
  {
   "cell_type": "code",
   "execution_count": null,
   "metadata": {},
   "outputs": [],
   "source": [
    "df_zips = df_hot.groupby('incident_zip').sum().sort_values('count', ascending=False)\n",
    "buckets = [[],[],[],[]]\n",
    "total = df_zips.sum()\n",
    "bucket_limit = int(total/3)\n",
    "i = 0\n",
    "n = 0\n",
    "for z, row in df_zips.iterrows():\n",
    "    buckets[i].append(row)\n",
    "    n = n + row['count']\n",
    "    if (n > bucket_limit):\n",
    "        n = 0;\n",
    "        i = i + 1;\n",
    "    \n",
    "print (buckets[3])"
   ]
  },
  {
   "cell_type": "code",
   "execution_count": null,
   "metadata": {},
   "outputs": [],
   "source": [
    "# I'm not sure what I; going to do with thesee bu kests yet, but it's clear that certain properties have the majority of problems\n",
    "\n",
    "buckets = [[],[],[],[],[],[]]\n",
    "total = df_joined['count'].sum()\n",
    "bucket_limit = int(total/5)\n",
    "i = 0\n",
    "n = 0\n",
    "for z, row in df_joined.iterrows():\n",
    "    buckets[i].append(row[['Address','count','YearBuilt','NumFloors']])\n",
    "    n = n + row['count']\n",
    "    if (n > bucket_limit):\n",
    "        n = 0;\n",
    "        i = i + 1;"
   ]
  },
  {
   "cell_type": "code",
   "execution_count": null,
   "metadata": {},
   "outputs": [],
   "source": [
    "# Create Training / Test Data\n",
    "from sklearn.cluster import KMeans\n",
    "\n",
    "kmeans = KMeans(n_clusters=5, random_state=0).fit(X[0])\n",
    "print(\"Labels\",kmeans.labels_[0:20])\n",
    "print(\"Predict\",kmeans.predict(X[1])[0:20])\n",
    "print(\"Predict\",(X[1])[0:20])\n",
    "print(\"Centers\",kmeans.cluster_centers_)\n"
   ]
  }
 ],
 "metadata": {
  "kernelspec": {
   "display_name": "Python 3",
   "language": "python",
   "name": "python3"
  },
  "language_info": {
   "codemirror_mode": {
    "name": "ipython",
    "version": 3
   },
   "file_extension": ".py",
   "mimetype": "text/x-python",
   "name": "python",
   "nbconvert_exporter": "python",
   "pygments_lexer": "ipython3",
   "version": "3.7.3"
  }
 },
 "nbformat": 4,
 "nbformat_minor": 2
}
